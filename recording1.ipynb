{
 "cells": [
  {
   "cell_type": "code",
   "execution_count": 1,
   "id": "0740a168-7d33-4562-8182-aaa864c06adb",
   "metadata": {},
   "outputs": [
    {
     "name": "stdout",
     "output_type": "stream",
     "text": [
      "Requirement already satisfied: assemblyai in /Users/aramishra/opt/anaconda3/lib/python3.9/site-packages (0.41.3)\n",
      "Requirement already satisfied: pydantic>=1.10.17 in /Users/aramishra/opt/anaconda3/lib/python3.9/site-packages (from assemblyai) (2.11.5)\n",
      "Requirement already satisfied: typing-extensions>=3.7 in /Users/aramishra/opt/anaconda3/lib/python3.9/site-packages (from assemblyai) (4.12.2)\n",
      "Requirement already satisfied: httpx>=0.19.0 in /Users/aramishra/opt/anaconda3/lib/python3.9/site-packages (from assemblyai) (0.28.1)\n",
      "Requirement already satisfied: websockets>=11.0 in /Users/aramishra/opt/anaconda3/lib/python3.9/site-packages (from assemblyai) (15.0.1)\n",
      "Requirement already satisfied: idna in /Users/aramishra/opt/anaconda3/lib/python3.9/site-packages (from httpx>=0.19.0->assemblyai) (3.3)\n",
      "Requirement already satisfied: certifi in /Users/aramishra/opt/anaconda3/lib/python3.9/site-packages (from httpx>=0.19.0->assemblyai) (2021.10.8)\n",
      "Requirement already satisfied: anyio in /Users/aramishra/opt/anaconda3/lib/python3.9/site-packages (from httpx>=0.19.0->assemblyai) (3.5.0)\n",
      "Requirement already satisfied: httpcore==1.* in /Users/aramishra/opt/anaconda3/lib/python3.9/site-packages (from httpx>=0.19.0->assemblyai) (1.0.9)\n",
      "Requirement already satisfied: h11>=0.16 in /Users/aramishra/opt/anaconda3/lib/python3.9/site-packages (from httpcore==1.*->httpx>=0.19.0->assemblyai) (0.16.0)\n",
      "Requirement already satisfied: typing-inspection>=0.4.0 in /Users/aramishra/opt/anaconda3/lib/python3.9/site-packages (from pydantic>=1.10.17->assemblyai) (0.4.1)\n",
      "Requirement already satisfied: annotated-types>=0.6.0 in /Users/aramishra/opt/anaconda3/lib/python3.9/site-packages (from pydantic>=1.10.17->assemblyai) (0.7.0)\n",
      "Requirement already satisfied: pydantic-core==2.33.2 in /Users/aramishra/opt/anaconda3/lib/python3.9/site-packages (from pydantic>=1.10.17->assemblyai) (2.33.2)\n",
      "Requirement already satisfied: sniffio>=1.1 in /Users/aramishra/opt/anaconda3/lib/python3.9/site-packages (from anyio->httpx>=0.19.0->assemblyai) (1.2.0)\n"
     ]
    }
   ],
   "source": [
    "!pip install assemblyai\n",
    "\n",
    "import assemblyai as aai\n",
    "import os"
   ]
  },
  {
   "cell_type": "code",
   "execution_count": 2,
   "id": "9583a04c-da79-4c17-8c4b-64cb1b7980f6",
   "metadata": {},
   "outputs": [],
   "source": [
    "aai.settings.api_key = \"01754830854649d0915488dc8964f835\"\n"
   ]
  },
  {
   "cell_type": "code",
   "execution_count": 3,
   "id": "1f43dd17-0686-4b2a-8b7e-07d155518d4b",
   "metadata": {},
   "outputs": [],
   "source": [
    "config = aai.TranscriptionConfig(\n",
    "    speaker_labels=True,\n",
    "    sentiment_analysis=True,\n",
    "    speech_model=aai.SpeechModel.best\n",
    ")"
   ]
  },
  {
   "cell_type": "code",
   "execution_count": 4,
   "id": "11494826-858c-48ba-ac57-8afc18d4d8cc",
   "metadata": {},
   "outputs": [],
   "source": [
    "local_path = os.path.expanduser(\"~/Desktop/EY_Project/Sample Order Taking Customer Support Philippines [TubeRipper.com].mp3\")\n",
    "\n",
    "config = aai.TranscriptionConfig(\n",
    "    speaker_labels=True,\n",
    "    sentiment_analysis=True,\n",
    "    speech_model=aai.SpeechModel.best\n",
    ")\n",
    "\n",
    "transcriber = aai.Transcriber(config=config)\n",
    "transcript = transcriber.transcribe(local_path)\n",
    "\n",
    "if transcript.status == \"error\":\n",
    "    raise RuntimeError(f\"Transcription failed: {transcript.error}\")"
   ]
  },
  {
   "cell_type": "code",
   "execution_count": 5,
   "id": "e4c14eec-ff60-46d1-b21f-03f116c9b3fe",
   "metadata": {},
   "outputs": [
    {
     "name": "stdout",
     "output_type": "stream",
     "text": [
      "[Speaker B] Thank you for calling Martha's Florist. How mess.\n",
      "[Speaker A] Hello. I'd like to order flowers and I think you have what I'm looking for.\n",
      "[Speaker B] I'd be happy to take care of your order. May I have your name, please?\n",
      "[Speaker A] Randall Thomas.\n",
      "[Speaker B] Randall Thomas. Can you spell that for me?\n",
      "[Speaker A] Randall. R, A, N, D, A, L, L. Thomas. T, H, O, M, A, N. Thank.\n",
      "[Speaker B] You for that information. Randall may have your home or office number, Area code first area code 409.\n",
      "[Speaker A] Then 866-5088.\n",
      "[Speaker B] That's 409-866-5088. Do you have a fax number or email address? My email is randall.thomasmail.com randall.thomasmail.Com may have your shipping address.\n",
      "[Speaker A] 6800.\n",
      "[Speaker B] Okay.\n",
      "[Speaker A] Gladys Avenue, Beaumont, Texas. Zip code is 77706.\n",
      "[Speaker B] Gladys Avenue, BeaumonT, Texas. Zip code 77706. Thank you for the information. What products were you interested in purchasing?\n",
      "[Speaker A] Red roses. Probably a dozen.\n",
      "[Speaker B] One dozen of red roses. Do you want long stems?\n",
      "[Speaker A] Yes, sure.\n",
      "[Speaker B] All right, Randall. Let me process the order. One moment, please.\n",
      "[Speaker A] Okay.\n",
      "[Speaker B] Randall, you're ordering one dozen long stemmed red roses. The total amount of Your order is $40. And it will be shipped to your address within 24 hours.\n",
      "[Speaker A] How soon can you deliver my roses again?\n",
      "[Speaker B] Within 24 hours.\n",
      "[Speaker A] Okay, no problem.\n",
      "[Speaker B] Is there anything else I can help you with?\n",
      "[Speaker A] That's all for now. Thanks.\n",
      "[Speaker B] No problem, Randall. Thank you for calling Martha's Florist. Have a nice day. It.\n"
     ]
    }
   ],
   "source": [
    "for utt in transcript.utterances:\n",
    "    print(f\"[Speaker {utt.speaker}] {utt.text}\")"
   ]
  },
  {
   "cell_type": "code",
   "execution_count": 7,
   "id": "c424380e-b034-4e97-bff2-2858fc22ce4d",
   "metadata": {},
   "outputs": [
    {
     "name": "stderr",
     "output_type": "stream",
     "text": [
      "[nltk_data] Downloading package vader_lexicon to\n",
      "[nltk_data]     /Users/aramishra/nltk_data...\n",
      "[nltk_data]   Package vader_lexicon is already up-to-date!\n"
     ]
    },
    {
     "data": {
      "text/html": [
       "<div>\n",
       "<style scoped>\n",
       "    .dataframe tbody tr th:only-of-type {\n",
       "        vertical-align: middle;\n",
       "    }\n",
       "\n",
       "    .dataframe tbody tr th {\n",
       "        vertical-align: top;\n",
       "    }\n",
       "\n",
       "    .dataframe thead th {\n",
       "        text-align: right;\n",
       "    }\n",
       "</style>\n",
       "<table border=\"1\" class=\"dataframe\">\n",
       "  <thead>\n",
       "    <tr style=\"text-align: right;\">\n",
       "      <th></th>\n",
       "      <th>Line</th>\n",
       "      <th>Speaker</th>\n",
       "      <th>Text</th>\n",
       "      <th>Sentiment</th>\n",
       "      <th>Compound Score</th>\n",
       "    </tr>\n",
       "  </thead>\n",
       "  <tbody>\n",
       "    <tr>\n",
       "      <th>0</th>\n",
       "      <td>1</td>\n",
       "      <td>B</td>\n",
       "      <td>Thank you for calling Martha's Florist. How mess.</td>\n",
       "      <td>Neutral</td>\n",
       "      <td>0.0000</td>\n",
       "    </tr>\n",
       "    <tr>\n",
       "      <th>1</th>\n",
       "      <td>2</td>\n",
       "      <td>A</td>\n",
       "      <td>Hello. I'd like to order flowers and I think y...</td>\n",
       "      <td>Positive</td>\n",
       "      <td>0.3612</td>\n",
       "    </tr>\n",
       "    <tr>\n",
       "      <th>2</th>\n",
       "      <td>3</td>\n",
       "      <td>B</td>\n",
       "      <td>I'd be happy to take care of your order. May I...</td>\n",
       "      <td>Positive</td>\n",
       "      <td>0.8481</td>\n",
       "    </tr>\n",
       "    <tr>\n",
       "      <th>3</th>\n",
       "      <td>4</td>\n",
       "      <td>A</td>\n",
       "      <td>Randall Thomas.</td>\n",
       "      <td>Neutral</td>\n",
       "      <td>0.0000</td>\n",
       "    </tr>\n",
       "    <tr>\n",
       "      <th>4</th>\n",
       "      <td>5</td>\n",
       "      <td>B</td>\n",
       "      <td>Randall Thomas. Can you spell that for me?</td>\n",
       "      <td>Neutral</td>\n",
       "      <td>0.0000</td>\n",
       "    </tr>\n",
       "  </tbody>\n",
       "</table>\n",
       "</div>"
      ],
      "text/plain": [
       "  Line Speaker                                               Text Sentiment  \\\n",
       "0    1       B  Thank you for calling Martha's Florist. How mess.   Neutral   \n",
       "1    2       A  Hello. I'd like to order flowers and I think y...  Positive   \n",
       "2    3       B  I'd be happy to take care of your order. May I...  Positive   \n",
       "3    4       A                                    Randall Thomas.   Neutral   \n",
       "4    5       B         Randall Thomas. Can you spell that for me?   Neutral   \n",
       "\n",
       "   Compound Score  \n",
       "0          0.0000  \n",
       "1          0.3612  \n",
       "2          0.8481  \n",
       "3          0.0000  \n",
       "4          0.0000  "
      ]
     },
     "execution_count": 7,
     "metadata": {},
     "output_type": "execute_result"
    }
   ],
   "source": [
    "import pandas as pd\n",
    "from nltk.sentiment.vader import SentimentIntensityAnalyzer\n",
    "import nltk\n",
    "\n",
    "nltk.download('vader_lexicon')\n",
    "\n",
    "analyzer = SentimentIntensityAnalyzer()\n",
    "\n",
    "results = []\n",
    "for i, utt in enumerate(transcript.utterances):\n",
    "    line = utt.text.strip()\n",
    "    speaker = utt.speaker\n",
    "    scores = analyzer.polarity_scores(line)\n",
    "    sentiment = (\n",
    "        \"Positive\" if scores['compound'] > 0.05 else\n",
    "        \"Negative\" if scores['compound'] < -0.05 else\n",
    "        \"Neutral\"\n",
    "    )\n",
    "    results.append({\n",
    "        \"Line\": i + 1,\n",
    "        \"Speaker\": speaker,\n",
    "        \"Text\": line,\n",
    "        \"Sentiment\": sentiment,\n",
    "        \"Compound Score\": scores['compound']\n",
    "    })\n",
    "\n",
    "df = pd.DataFrame(results)\n",
    "\n",
    "overall_sentiment = df['Sentiment'].value_counts().idxmax()\n",
    "\n",
    "summary_row = {\n",
    "    \"Line\": \"Overall\",\n",
    "    \"Speaker\": \"\",\n",
    "    \"Text\": \"Conversation Summary\",\n",
    "    \"Sentiment\": overall_sentiment,\n",
    "    \"Compound Score\": df[\"Compound Score\"].mean()  \n",
    "}\n",
    "df = pd.concat([df, pd.DataFrame([summary_row])], ignore_index=True)\n",
    "\n",
    "df.to_excel(\"transcript1_sentiment.xlsx\", index=False)\n",
    "\n",
    "df.head()\n"
   ]
  },
  {
   "cell_type": "code",
   "execution_count": null,
   "id": "e0bc0a78-68b1-49cd-a088-f40007b1b6fb",
   "metadata": {},
   "outputs": [],
   "source": []
  },
  {
   "cell_type": "code",
   "execution_count": null,
   "id": "66480ce5-c941-4197-b8ab-eb465d9d908e",
   "metadata": {},
   "outputs": [],
   "source": []
  }
 ],
 "metadata": {
  "kernelspec": {
   "display_name": "Python 3 (ipykernel)",
   "language": "python",
   "name": "python3"
  },
  "language_info": {
   "codemirror_mode": {
    "name": "ipython",
    "version": 3
   },
   "file_extension": ".py",
   "mimetype": "text/x-python",
   "name": "python",
   "nbconvert_exporter": "python",
   "pygments_lexer": "ipython3",
   "version": "3.9.12"
  }
 },
 "nbformat": 4,
 "nbformat_minor": 5
}
